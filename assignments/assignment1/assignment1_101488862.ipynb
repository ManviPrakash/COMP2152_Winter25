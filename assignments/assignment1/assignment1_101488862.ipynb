{
 "cells": [
  {
   "cell_type": "code",
   "execution_count": null,
   "id": "initial_id",
   "metadata": {
    "collapsed": true
   },
   "outputs": [],
   "source": [
    "\"\"\"\n",
    "Author: Manvi Prakash\n",
    "Assignment: #1\n",
    "\"\"\"\n"
   ]
  },
  {
   "cell_type": "code",
   "execution_count": null,
   "id": "dc80f906",
   "metadata": {},
   "outputs": [],
   "source": [
    "\n",
    "\n",
    "# (b) Create 4 variables with their respective data types\n",
    "\n",
    "gym_member = \"Alex Alliton\"  # str\n",
    "preferred_weight_kg = 20.5  # float\n",
    "highest_reps = 25  # int\n",
    "membership_active = True  # bool\n",
    "\n",
    "# (c) Create a dictionary named workout_stats\n",
    "# Dictionary: Stores workout stats for friends with their workout durations (yoga, running, weightlifting)\n",
    "\n",
    "workout_stats = {\n",
    "    \"Alex\": (50, 60, 30),  # Increased Alex's minutes to ensure proper testing\n",
    "    \"Jamie\": (25, 50, 30),\n",
    "    \"Taylor\": (40, 35, 25)\n",
    "}\n",
    "\n",
    "# (d) Calculate total workout minutes for each friend and add new key-value pairs\n",
    "for friend in list(workout_stats.keys()):  # Using list() to avoid modifying the dictionary during iteration\n",
    "    total_minutes = sum(workout_stats[friend])\n",
    "    workout_stats[f\"{friend}_Total\"] = total_minutes  # Add total workout time\n",
    "\n",
    "# (e) Create a 2D nested list extracting only workout minutes (excluding totals)\n",
    "# Each row represents a friend, and each column represents an activity (yoga, running, weightlifting)\n",
    "workout_list = [list(workout_stats[friend]) for friend in workout_stats if isinstance(workout_stats[friend], tuple)]\n",
    "\n",
    "# Print workout_list to verify the structure\n",
    "print(\"Workout List (2D Nested List):\", workout_list)\n",
    "\n",
    "# (f) Slice the workout_list\n",
    "# Extract and print the minutes for yoga and running for all friends (columns 0 and 1)\n",
    "yoga_running = [row[:2] for row in workout_list]  # First two columns (Yoga & Running)\n",
    "print(\"Yoga and Running minutes for all friends:\", yoga_running)\n",
    "\n",
    "# Extract and print the minutes for weightlifting for the last two friends (column 2)\n",
    "weightlifting_last_two = [row[2] for row in workout_list[-2:]]  # Last two rows, 3rd column (Weightlifting)\n",
    "print(\"Weightlifting minutes for the last two friends:\", weightlifting_last_two)\n",
    "\n",
    "# (g) Check if any friend's total workout minutes are >= 120 and print a message\n",
    "for friend, total_minutes in workout_stats.items():\n",
    "    if isinstance(total_minutes, int) and total_minutes >= 120:\n",
    "        print(f\"Great job staying active, {friend.replace('_Total', '')}!\")\n",
    "\n",
    "# (h) Allow user input to check a friend’s workout stats\n",
    "friend_name = input(\"Enter a friend's name: \").strip()\n",
    "if friend_name in workout_stats:\n",
    "    if isinstance(workout_stats[friend_name], tuple):  # Ensure we’re dealing with workout data\n",
    "        minutes = workout_stats[friend_name]\n",
    "        print(f\"{friend_name}'s workout minutes - Yoga: {minutes[0]}, Running: {minutes[1]}, Weightlifting: {minutes[2]}\")\n",
    "        print(f\"Total workout minutes: {workout_stats[f'{friend_name}_Total']}\")\n",
    "else:\n",
    "    print(f\"Friend {friend_name} not found in the records.\")\n",
    "\n",
    "# (i) Find and print the friend with the highest and lowest total workout minutes\n",
    "friends_with_totals = [(friend.replace('_Total', ''), total) for friend, total in workout_stats.items() if isinstance(total, int)]\n",
    "highest_friend = max(friends_with_totals, key=lambda x: x[1])\n",
    "lowest_friend = min(friends_with_totals, key=lambda x: x[1])\n",
    "print(f\"The friend with the highest total workout minutes is {highest_friend[0]} with {highest_friend[1]} minutes.\")\n",
    "print(f\"The friend with the lowest total workout minutes is {lowest_friend[0]} with {lowest_friend[1]} minutes.\")\n"
   ]
  }
 ],
 "metadata": {
  "kernelspec": {
   "display_name": "Python 3",
   "language": "python",
   "name": "python3"
  },
  "language_info": {
   "codemirror_mode": {
    "name": "ipython",
    "version": 2
   },
   "file_extension": ".py",
   "mimetype": "text/x-python",
   "name": "python",
   "nbconvert_exporter": "python",
   "pygments_lexer": "ipython2",
   "version": "2.7.6"
  }
 },
 "nbformat": 4,
 "nbformat_minor": 5
}
